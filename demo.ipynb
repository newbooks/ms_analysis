{
 "cells": [
  {
   "cell_type": "markdown",
   "metadata": {},
   "source": [
    "# Demonstration of Microsstate Analysis Library"
   ]
  },
  {
   "cell_type": "markdown",
   "metadata": {},
   "source": [
    "## Part one: Usage examples"
   ]
  },
  {
   "cell_type": "markdown",
   "metadata": {},
   "source": [
    "### Read microstates"
   ]
  },
  {
   "cell_type": "code",
   "execution_count": 1,
   "metadata": {
    "scrolled": true
   },
   "outputs": [
    {
     "name": "stdout",
     "output_type": "stream",
     "text": [
      "/home/jupyter-jmao/ms_analysis/4lzt\n",
      "Reading MC:0\n",
      "Reading MC:1\n",
      "Reading MC:2\n",
      "Reading MC:3\n",
      "Reading MC:4\n",
      "Reading MC:5\n"
     ]
    }
   ],
   "source": [
    "from ms_analysis import *\n",
    "%cd ~/ms_analysis/4lzt\n",
    "msfile = \"ms_out/pH5eH0ms.txt\"\n",
    "mc = MC()\n",
    "mc.readms(msfile)"
   ]
  },
  {
   "cell_type": "markdown",
   "metadata": {},
   "source": [
    "#### Basic information of the microstates"
   ]
  },
  {
   "cell_type": "code",
   "execution_count": 2,
   "metadata": {
    "scrolled": true
   },
   "outputs": [
    {
     "name": "stdout",
     "output_type": "stream",
     "text": [
      "MC temperature = 298.150\n",
      "MC pH = 5.00\n",
      "MC fixed conformers = [10, 47, 87, 88, 89, 192, 201, 210, 211, 212, 213, 251, 278, 286, 694, 696, 842, 891, 899, 904, 905, 911, 974, 980, 995, 996, 1053, 1093, 1100, 1153, 1199, 1246, 1329]\n",
      "Number of unique microstates = 2126677\n",
      "Number of total microstates = 6600000\n",
      "Average energy of microstates = -202.448\n"
     ]
    }
   ],
   "source": [
    "print(\"MC temperature = %.3f\" % mc.T)\n",
    "print(\"MC pH = %.2f\" % mc.pH)\n",
    "print(\"MC fixed conformers = %s\" % mc.fixedconfs)\n",
    "print(\"Number of unique microstates = %d\" % len(mc.microstates))\n",
    "print(\"Number of total microstates = %d\" % mc.counts)\n",
    "print(\"Average energy of microstates = %.3f\" % average_e(mc.microstates))"
   ]
  },
  {
   "cell_type": "markdown",
   "metadata": {},
   "source": [
    "#### Query data in MC micorstates"
   ]
  },
  {
   "cell_type": "code",
   "execution_count": 3,
   "metadata": {},
   "outputs": [
    {
     "name": "stdout",
     "output_type": "stream",
     "text": [
      "8\n"
     ]
    }
   ],
   "source": [
    "# from conformer name to conformer index\n",
    "print(mc.iconf_by_confname[\"LYS+1A0001_007\"])"
   ]
  },
  {
   "cell_type": "code",
   "execution_count": 4,
   "metadata": {},
   "outputs": [
    {
     "name": "stdout",
     "output_type": "stream",
     "text": [
      "  0 NTRA0001_ [0, 1]\n",
      "  1 LYSA0001_ [6, 7, 8, 9]\n",
      "  2 PHEA0003_ [11, 12]\n",
      "  3 ARGA0005_ [40, 41, 43, 44, 45]\n",
      "  4 GLUA0007_ [50, 55, 57, 59, 60, 61, 63, 64, 65, 70, 73, 75, 79, 80, 81, 82, 83, 84]\n",
      "  5 LEUA0008_ [85, 86]\n",
      "  6 META0012_ [90, 91, 92]\n",
      "  7 LYSA0013_ [101, 102, 103, 104, 105]\n",
      "  8 ARGA0014_ [125, 127, 128, 130]\n",
      "  9 HISA0015_ [131, 133, 135, 137, 140, 141, 142, 143, 144, 145, 146, 148, 149, 150, 151, 152, 153, 155, 156]\n",
      " 10 LEUA0017_ [157, 158, 159]\n",
      " 11 ASPA0018_ [162, 164, 165, 168, 169]\n",
      " 12 ASNA0019_ [170, 171]\n",
      " 13 TYRA0020_ [172, 174, 175, 176]\n",
      " 14 ARGA0021_ [189, 190, 191]\n",
      " 15 SERA0024_ [196, 197, 198, 199, 200]\n",
      " 16 ASNA0027_ [203, 204, 205, 206, 207]\n",
      " 17 TRPA0028_ [208, 209]\n",
      " 18 LYSA0033_ [233, 234, 237, 239, 241, 242, 243]\n",
      " 19 GLUA0035_ [253, 254, 258, 259, 261, 263, 264]\n",
      " 20 SERA0036_ [267, 268, 269]\n",
      " 21 ASNA0037_ [270, 271, 272, 273, 274]\n",
      " 22 PHEA0038_ [275, 277]\n",
      " 23 THRA0040_ [280, 281]\n",
      " 24 GLNA0041_ [282, 283, 284, 285]\n",
      " 25 THRA0043_ [287, 288, 289, 290, 291, 292, 293, 294, 295]\n",
      " 26 ASNA0044_ [296, 297, 298, 299, 300, 301]\n",
      " 27 ARGA0045_ [382, 383, 384, 386, 388, 389, 390, 392, 393, 394, 395, 396, 397, 398, 399]\n",
      " 28 ASNA0046_ [402, 403, 404, 405, 407, 408, 409, 410]\n",
      " 29 THRA0047_ [411, 412, 413]\n",
      " 30 ASPA0048_ [424, 458, 459, 460, 464, 465, 466]\n",
      " 31 SERA0050_ [468, 469, 471, 475]\n",
      " 32 THRA0051_ [480, 481, 482, 486, 490, 493]\n",
      " 33 ASPA0052_ [501, 502, 503, 505, 508, 509, 510, 511, 512, 513, 515, 516, 517, 518, 519, 520, 521, 522, 523]\n",
      " 34 TYRA0053_ [524, 525, 527, 528, 529, 532, 534, 538]\n",
      " 35 ILEA0055_ [545, 547]\n",
      " 36 LEUA0056_ [548, 549, 550, 551]\n",
      " 37 GLNA0057_ [552, 553, 554, 555, 556, 557, 558]\n",
      " 38 ILEA0058_ [559, 560, 561, 562]\n",
      " 39 ASNA0059_ [563, 565, 570, 572, 574, 575, 578, 579]\n",
      " 40 SERA0060_ [581, 582, 583, 584, 585]\n",
      " 41 ARGA0061_ [667, 668, 671, 672, 673, 674, 680, 681, 682, 685, 686]\n",
      " 42 TRPA0062_ [687, 688, 689, 690, 691, 692, 693]\n",
      " 43 ASNA0065_ [697, 698, 699]\n",
      " 44 ASPA0066_ [703, 704, 715, 722, 728, 729]\n",
      " 45 ARGA0068_ [813, 814, 815, 816, 817, 818, 819, 820, 821, 822, 823, 824, 825, 826, 827, 828, 829, 830, 831, 832]\n",
      " 46 THRA0069_ [833, 834, 835, 839, 840, 841]\n",
      " 47 SERA0072_ [843, 844, 845, 846, 847, 848]\n",
      " 48 ARGA0073_ [881, 882, 884, 885, 886, 887, 888, 889, 890]\n",
      " 49 LEUA0075_ [894, 895, 896, 898]\n",
      " 50 ASNA0077_ [900, 901]\n",
      " 51 ILEA0078_ [902, 903]\n",
      " 52 SERA0081_ [906, 907, 908, 909, 910]\n",
      " 53 LEUA0083_ [912, 913]\n",
      " 54 LEUA0084_ [914, 915, 916]\n",
      " 55 SERA0085_ [917, 918, 919, 920, 921, 923, 925, 926, 927, 928]\n",
      " 56 SERA0086_ [929, 930, 931, 932, 933, 934]\n",
      " 57 ASPA0087_ [938, 940, 941, 944, 947, 949, 950, 952, 953, 954]\n",
      " 58 ILEA0088_ [956, 957]\n",
      " 59 THRA0089_ [960, 962, 963, 964, 965, 966, 968, 969, 970, 972, 973]\n",
      " 60 SERA0091_ [975, 976, 977, 978, 979]\n",
      " 61 ASNA0093_ [982, 983, 984, 985, 986, 987, 988, 989, 990, 991, 992, 993, 994]\n",
      " 62 LYSA0096_ [1012, 1013, 1014, 1015, 1016, 1017, 1018, 1022, 1023]\n",
      " 63 LYSA0097_ [1038, 1039, 1040, 1041, 1042, 1043, 1044, 1045, 1046, 1047, 1048, 1049]\n",
      " 64 ILEA0098_ [1050, 1052]\n",
      " 65 SERA0100_ [1054, 1055, 1056, 1057, 1058, 1059]\n",
      " 66 ASPA0101_ [1060, 1061, 1062, 1063, 1064, 1065, 1066, 1067, 1068, 1069, 1070, 1071, 1072]\n",
      " 67 ASNA0103_ [1073, 1074, 1075, 1076]\n",
      " 68 META0105_ [1077, 1079, 1080, 1081, 1082]\n",
      " 69 ASNA0106_ [1086, 1087, 1088, 1090, 1091, 1092]\n",
      " 70 TRPA0108_ [1094, 1095]\n",
      " 71 VALA0109_ [1097, 1098, 1099]\n",
      " 72 TRPA0111_ [1101, 1103, 1104]\n",
      " 73 ARGA0112_ [1127, 1128, 1129, 1130, 1131, 1132]\n",
      " 74 ASNA0113_ [1133, 1134, 1135, 1136]\n",
      " 75 ARGA0114_ [1149, 1150, 1151]\n",
      " 76 LYSA0116_ [1162, 1163, 1164, 1165, 1166, 1167, 1169]\n",
      " 77 THRA0118_ [1170, 1171, 1172]\n",
      " 78 ASPA0119_ [1174, 1175, 1177, 1178, 1180, 1181, 1182, 1183, 1186, 1187]\n",
      " 79 VALA0120_ [1188, 1189]\n",
      " 80 GLNA0121_ [1190, 1191, 1192, 1193, 1194, 1195, 1196, 1197, 1198]\n",
      " 81 TRPA0123_ [1200, 1203]\n",
      " 82 ILEA0124_ [1204, 1205, 1206, 1207]\n",
      " 83 ARGA0125_ [1237, 1238, 1239, 1240, 1241, 1243, 1244, 1245]\n",
      " 84 ARGA0128_ [1309, 1310, 1311, 1312, 1313, 1314, 1315, 1316, 1317, 1318, 1319, 1320, 1321, 1322, 1323, 1324, 1325, 1326, 1328]\n",
      " 85 CTRA0129_ [1330, 1331, 1332, 1333]\n"
     ]
    }
   ],
   "source": [
    "# free residues and its conformers\n",
    "for ires in range(len(mc.free_residues)):\n",
    "    print(\"%3d %s %s\" % (ires, mc.free_residue_names[ires], mc.free_residues[ires]))"
   ]
  },
  {
   "cell_type": "code",
   "execution_count": 5,
   "metadata": {},
   "outputs": [
    {
     "name": "stdout",
     "output_type": "stream",
     "text": [
      " 1200 TRP01A0123_001 ->  81 TRPA0123_\n",
      " 1203 TRP01A0123_004 ->  81 TRPA0123_\n"
     ]
    }
   ],
   "source": [
    "# from conformer index to residue index\n",
    "TRPA0123 = [1200, 1203]\n",
    "for iconf in TRPA0123:\n",
    "    ires = mc.ires_by_iconf[iconf]\n",
    "    print(\"%5d %s -> %3d %s\" % (iconf, mc.conformers[iconf].confid, ires, mc.free_residue_names[ires]))"
   ]
  },
  {
   "cell_type": "markdown",
   "metadata": {},
   "source": [
    "### Example 1: Bin microstates based on energy"
   ]
  },
  {
   "cell_type": "code",
   "execution_count": 6,
   "metadata": {},
   "outputs": [
    {
     "name": "stdout",
     "output_type": "stream",
     "text": [
      "  Energy #total  #uniq\n",
      "-217.151     13      3\n",
      "-216.796     16      6\n",
      "-216.440     84     21\n",
      "-216.085    162     32\n",
      "-215.730    235     64\n",
      "-215.374    372    104\n",
      "-215.019    764    202\n",
      "-214.664   1334    337\n",
      "-214.308   1821    463\n",
      "-213.953   2360    634\n",
      "-213.598   3240    886\n",
      "-213.242   4387   1242\n",
      "-212.887   6486   1766\n",
      "-212.532   8394   2328\n",
      "-212.176  11528   3132\n",
      "-211.821  14031   4001\n",
      "-211.466  17797   5007\n",
      "-211.111  23040   6420\n",
      "-210.755  28661   8160\n",
      "-210.400  35771  10226\n",
      "-210.045  43404  12282\n",
      "-209.689  51909  14879\n",
      "-209.334  60922  17899\n",
      "-208.979  71835  21050\n",
      "-208.623  83413  24540\n",
      "-208.268  94307  28210\n",
      "-207.913 107233  31950\n",
      "-207.557 121385  36268\n",
      "-207.202 135099  40622\n",
      "-206.847 148366  44841\n",
      "-206.491 158757  48166\n",
      "-206.136 171495  52381\n",
      "-205.781 183609  56297\n",
      "-205.425 192485  59439\n",
      "-205.070 203503  63279\n",
      "-204.715 211851  66290\n",
      "-204.359 217864  68407\n",
      "-204.004 222364  70510\n",
      "-203.649 226547  71973\n",
      "-203.293 225926  72481\n",
      "-202.938 226560  72817\n",
      "-202.583 224454  72384\n",
      "-202.227 221925  72029\n",
      "-201.872 217561  71123\n",
      "-201.517 211756  69321\n",
      "-201.161 204194  67229\n",
      "-200.806 198740  65144\n",
      "-200.451 187641  62466\n",
      "-200.095 176277  59032\n",
      "-199.740 163071  54765\n",
      "-199.385 154463  52300\n",
      "-199.029 144283  48965\n",
      "-198.674 133327  45335\n",
      "-198.319 121152  41402\n",
      "-197.964 111240  38275\n",
      "-197.608 100829  34895\n",
      "-197.253  91269  31579\n",
      "-196.898  82950  28896\n",
      "-196.542  73220  25527\n",
      "-196.187  64621  22761\n",
      "-195.832  57439  20260\n",
      "-195.476  50687  17891\n",
      "-195.121  44417  15835\n",
      "-194.766  38708  13887\n",
      "-194.410  32661  11743\n",
      "-194.055  29264  10556\n",
      "-193.700  24540   8894\n",
      "-193.344  20411   7545\n",
      "-192.989  17707   6484\n",
      "-192.634  14771   5366\n",
      "-192.278  12925   4694\n",
      "-191.923  10299   3824\n",
      "-191.568   8676   3150\n",
      "-191.212   6851   2610\n",
      "-190.857   5653   2203\n",
      "-190.502   4338   1618\n",
      "-190.146   3705   1431\n",
      "-189.791   3042   1153\n",
      "-189.436   2380    937\n",
      "-189.080   1775    715\n",
      "-188.725   1527    553\n",
      "-188.370   1305    508\n",
      "-188.014    957    362\n",
      "-187.659    881    330\n",
      "-187.304    715    253\n",
      "-186.948    499    203\n",
      "-186.593    354    137\n",
      "-186.238    341    139\n",
      "-185.882    205     82\n",
      "-185.527    159     63\n",
      "-185.172    122     52\n",
      "-184.816    102     46\n",
      "-184.461     66     26\n",
      "-184.106     72     28\n",
      "-183.751     76     23\n",
      "-183.395     18      8\n",
      "-183.040     28     12\n",
      "-182.685     10      5\n",
      "-182.329      9      6\n",
      "-181.974      2      2\n"
     ]
    }
   ],
   "source": [
    "# bin whole range\n",
    "erange, total_counts = bin_mscounts_total(mc.microstates)\n",
    "_, uniq_counts = bin_mscounts_unique(mc.microstates)\n",
    "print(\"%8s %6s %6s\" % (\"Energy\", \"#total\", \"#uniq\"))\n",
    "for i in range(len(erange)):\n",
    "    print(\"%8.3f %6d %6d\" % (erange[i], total_counts[i], uniq_counts[i]))"
   ]
  },
  {
   "cell_type": "code",
   "execution_count": 7,
   "metadata": {},
   "outputs": [
    {
     "name": "stdout",
     "output_type": "stream",
     "text": [
      "  Energy #total  #uniq\n",
      "-210.000 4667944 1468954\n",
      "-200.000 1749833 604812\n",
      "-190.000  16824   6474\n",
      "-180.000      0      0\n"
     ]
    }
   ],
   "source": [
    "# bin a customized range\n",
    "bin_range = [-210, -200, -190, -180]\n",
    "erange, total_counts = bin_mscounts_total(mc.microstates, erange=bin_range)\n",
    "_, uniq_counts = bin_mscounts_unique(mc.microstates, erange=bin_range)\n",
    "print(\"%8s %6s %6s\" % (\"Energy\", \"#total\", \"#uniq\"))\n",
    "for i in range(len(erange)):\n",
    "    print(\"%8.3f %6d %6d\" % (erange[i], total_counts[i], uniq_counts[i]))"
   ]
  },
  {
   "cell_type": "markdown",
   "metadata": {},
   "source": [
    "### Example 2. Microstates selection - Cause and effect"
   ]
  },
  {
   "cell_type": "code",
   "execution_count": 8,
   "metadata": {},
   "outputs": [
    {
     "name": "stdout",
     "output_type": "stream",
     "text": [
      "GLUA0035_, d= 100.000\n"
     ]
    },
    {
     "data": {
      "image/png": "[encoded data removed]",
      "text/plain": [
       "<Figure size 576x360 with 1 Axes>"
      ]
     },
     "metadata": {
      "needs_background": "light"
     },
     "output_type": "display_data"
    },
    {
     "name": "stdout",
     "output_type": "stream",
     "text": [
      "GLU01A0035_001  0.027  0.000\n",
      "GLU01A0035_002  0.392  0.000\n",
      "GLU01A0035_006  0.012  0.000\n",
      "GLU02A0035_007  0.052  0.000\n",
      "GLU02A0035_009  0.517  0.000\n",
      "GLU-1A0035_011  0.000  0.572\n",
      "GLU-1A0035_012  0.000  0.428\n",
      "\n",
      "ASNA0044_, d= 0.013\n"
     ]
    },
    {
     "data": {
      "image/png": "[encoded data removed]",
      "text/plain": [
       "<Figure size 576x360 with 1 Axes>"
      ]
     },
     "metadata": {
      "needs_background": "light"
     },
     "output_type": "display_data"
    },
    {
     "name": "stdout",
     "output_type": "stream",
     "text": [
      "ASN01A0044_001  0.687  0.564\n",
      "ASN01A0044_002  0.008  0.010\n",
      "ASN01A0044_003  0.149  0.138\n",
      "ASN01A0044_004  0.063  0.123\n",
      "ASN01A0044_005  0.004  0.005\n",
      "ASN01A0044_006  0.088  0.159\n",
      "\n",
      "ASNA0046_, d= 0.012\n"
     ]
    },
    {
     "data": {
      "image/png": "[encoded data removed]",
      "text/plain": [
       "<Figure size 576x360 with 1 Axes>"
      ]
     },
     "metadata": {
      "needs_background": "light"
     },
     "output_type": "display_data"
    },
    {
     "name": "stdout",
     "output_type": "stream",
     "text": [
      "ASN01A0046_001  0.719  0.601\n",
      "ASN01A0046_002  0.033  0.062\n",
      "ASN01A0046_003  0.004  0.005\n",
      "ASN01A0046_004  0.029  0.038\n",
      "ASN01A0046_006  0.001  0.001\n",
      "ASN01A0046_007  0.028  0.062\n",
      "ASN01A0046_008  0.051  0.098\n",
      "ASN01A0046_009  0.135  0.134\n",
      "\n",
      "ASPA0052_, d= 0.080\n"
     ]
    },
    {
     "data": {
      "image/png": "[encoded data removed]",
      "text/plain": [
       "<Figure size 576x360 with 1 Axes>"
      ]
     },
     "metadata": {
      "needs_background": "light"
     },
     "output_type": "display_data"
    },
    {
     "name": "stdout",
     "output_type": "stream",
     "text": [
      "ASP01A0052_002  0.005  0.017\n",
      "ASP01A0052_003  0.005  0.020\n",
      "ASP01A0052_004  0.002  0.007\n",
      "ASP01A0052_006  0.008  0.052\n",
      "ASP01A0052_009  0.002  0.006\n",
      "ASP01A0052_010  0.003  0.007\n",
      "ASP02A0052_011  0.025  0.088\n",
      "ASP02A0052_012  0.021  0.078\n",
      "ASP02A0052_013  0.003  0.022\n",
      "ASP02A0052_014  0.014  0.083\n",
      "ASP02A0052_016  0.002  0.011\n",
      "ASP02A0052_017  0.006  0.020\n",
      "ASP02A0052_018  0.008  0.022\n",
      "ASP02A0052_019  0.001  0.002\n",
      "ASP-1A0052_020  0.547  0.369\n",
      "ASP-1A0052_021  0.026  0.016\n",
      "ASP-1A0052_022  0.171  0.089\n",
      "ASP-1A0052_023  0.020  0.014\n",
      "ASP-1A0052_024  0.127  0.078\n",
      "\n"
     ]
    }
   ],
   "source": [
    "# Example 2: When GLU35 is ionized, what residues change conformation?\n",
    "glu_charged_confs = [\"GLU-1A0035_011\", \"GLU-1A0035_012\", \"GLU-1A0035_013\", \"GLU-1A0035_011\"]\n",
    "glu_charged_ms, glu_neutral_ms = mc.select_by_conformer(mc.microstates, conformer_in=glu_charged_confs)\n",
    "conf_occ_glu_charged = mc.get_occ(glu_charged_ms)\n",
    "conf_occ_glu_neutral = mc.get_occ(glu_neutral_ms)\n",
    "for res in mc.free_residues:\n",
    "    resid = mc.conformers[res[0]].resid\n",
    "    prob1 = [conf_occ_glu_neutral[ic] for ic in res]\n",
    "    prob2 = [conf_occ_glu_charged[ic] for ic in res]\n",
    "    d = bhata_distance(prob1, prob2)\n",
    "    if d > 0.01:\n",
    "        print(\"%s, d= %.3f\" % (resid, d))\n",
    "        plot_prob(prob1, prob2, d)\n",
    "        for ic in res:\n",
    "            print(\"%s %6.3f %6.3f\" % (mc.conformers[ic].confid, conf_occ_glu_neutral[ic], conf_occ_glu_charged[ic]))\n",
    "        print()"
   ]
  },
  {
   "cell_type": "markdown",
   "metadata": {},
   "source": [
    "### Example 3. Microstates selection - Thermaldynamic box\n",
    "\n",
    "GLU35 and ASP52 ionization\n",
    "\n",
    "<pre>\n",
    "Group A: GLU35-H | ASP52-H \n",
    "Group B: GLU35-H | ASP52-\n",
    "Group C: GLU35-  | ASP52-H \n",
    "Group D: GLU35-  | ASP52-\n",
    "</pre>\n",
    "\n",
    "The reaction is A to D, there are two paths A to B to D, and A to C to D."
   ]
  },
  {
   "cell_type": "code",
   "execution_count": 9,
   "metadata": {},
   "outputs": [
    {
     "name": "stdout",
     "output_type": "stream",
     "text": [
      "['GLU-1A0035_011', 'GLU-1A0035_012', 'GLU-1A0035_013', 'GLU-1A0035_014']\n",
      "['ASP-1A0052_020', 'ASP-1A0052_021', 'ASP-1A0052_022', 'ASP-1A0052_023', 'ASP-1A0052_024']\n"
     ]
    }
   ],
   "source": [
    "# find charged GLU35 and ASP52 conformers:\n",
    "GLU35_ionized = [x.confid for x in mc.conformers if x.confid.find(\"GLU-1A0035\") ==0]\n",
    "print(GLU35_ionized)\n",
    "\n",
    "ASP52_ionized = [x.confid for x in mc.conformers if x.confid.find(\"ASP-1A0052\") ==0]\n",
    "print(ASP52_ionized)"
   ]
  },
  {
   "cell_type": "code",
   "execution_count": 10,
   "metadata": {},
   "outputs": [],
   "source": [
    "GLU35_ionized_ms, GLU35_neutral_ms = mc.select_by_conformer(mc.microstates, conformer_in=GLU35_ionized)"
   ]
  },
  {
   "cell_type": "code",
   "execution_count": 11,
   "metadata": {},
   "outputs": [],
   "source": [
    "GLU35_ionized_ASP52_ionized_ms, GLU35_ionized_ASP52_neutral_ms = mc.select_by_conformer(GLU35_ionized_ms, conformer_in=ASP52_ionized) "
   ]
  },
  {
   "cell_type": "code",
   "execution_count": 12,
   "metadata": {},
   "outputs": [],
   "source": [
    "GLU35_neutral_ASP52_ionized_ms, GLU35_neutral_ASP52_neutral_ms = mc.select_by_conformer(GLU35_neutral_ms, conformer_in=ASP52_ionized) "
   ]
  },
  {
   "cell_type": "code",
   "execution_count": 13,
   "metadata": {},
   "outputs": [],
   "source": [
    "Group_A_ms = GLU35_neutral_ASP52_neutral_ms\n",
    "Group_B_ms = GLU35_neutral_ASP52_ionized_ms\n",
    "Group_C_ms = GLU35_ionized_ASP52_neutral_ms\n",
    "Group_D_ms = GLU35_ionized_ASP52_ionized_ms"
   ]
  },
  {
   "cell_type": "code",
   "execution_count": 14,
   "metadata": {},
   "outputs": [],
   "source": [
    "Group_A_E = average_e(Group_A_ms)\n",
    "Group_B_E = average_e(Group_B_ms)\n",
    "Group_C_E = average_e(Group_C_ms)\n",
    "Group_D_E = average_e(Group_D_ms)"
   ]
  },
  {
   "cell_type": "code",
   "execution_count": 15,
   "metadata": {},
   "outputs": [
    {
     "name": "stdout",
     "output_type": "stream",
     "text": [
      "Box with E:\n",
      "\n",
      "dE from A -> B   -2.750\n",
      "dE from B -> D    0.906\n",
      "\n",
      "dE from A -> C   -0.227\n",
      "dE from C -> D   -1.617\n",
      "\n",
      "dE from A -> D   -1.844\n"
     ]
    }
   ],
   "source": [
    "print(\"Box with E:\\n\")\n",
    "print(\"dE from A -> B %8.3f\" % (Group_B_E - Group_A_E))\n",
    "print(\"dE from B -> D %8.3f\" % (Group_D_E - Group_B_E))\n",
    "print()\n",
    "print(\"dE from A -> C %8.3f\" % (Group_C_E - Group_A_E))\n",
    "print(\"dE from C -> D %8.3f\" % (Group_D_E - Group_C_E))\n",
    "print()\n",
    "print(\"dE from A -> D %8.3f\" % (Group_D_E - Group_A_E))"
   ]
  },
  {
   "cell_type": "code",
   "execution_count": 16,
   "metadata": {},
   "outputs": [],
   "source": [
    "G_AB = -math.log(get_count(Group_B_ms)/get_count(Group_A_ms))/Kcal2kT\n",
    "G_BD = -math.log(get_count(Group_D_ms)/get_count(Group_B_ms))/Kcal2kT\n",
    "G_AC = -math.log(get_count(Group_C_ms)/get_count(Group_A_ms))/Kcal2kT\n",
    "G_CD = -math.log(get_count(Group_D_ms)/get_count(Group_C_ms))/Kcal2kT"
   ]
  },
  {
   "cell_type": "code",
   "execution_count": 17,
   "metadata": {},
   "outputs": [
    {
     "name": "stdout",
     "output_type": "stream",
     "text": [
      "Box with dG:\n",
      "\n",
      "dG from A -> B        -1.257\n",
      "dG from B -> D         1.085\n",
      "dG from A -> B -> D   -0.171\n",
      "\n",
      "dG from A -> C        -0.016\n",
      "dG from C -> D        -0.155\n",
      "dG from A -> C -> D   -0.171\n"
     ]
    }
   ],
   "source": [
    "print(\"Box with dG:\\n\")\n",
    "print(\"dG from A -> B      %8.3f\" % (G_AB))\n",
    "print(\"dG from B -> D      %8.3f\" % (G_BD))\n",
    "print(\"dG from A -> B -> D %8.3f\" % (G_AB + G_BD))\n",
    "print()\n",
    "print(\"dG from A -> C      %8.3f\" % (G_AC))\n",
    "print(\"dG from C -> D      %8.3f\" % (G_CD))\n",
    "print(\"dG from A -> C -> D %8.3f\" % (G_AC + G_CD))"
   ]
  },
  {
   "cell_type": "markdown",
   "metadata": {},
   "source": [
    "### Example 4. Charged microstates"
   ]
  },
  {
   "cell_type": "code",
   "execution_count": 18,
   "metadata": {},
   "outputs": [],
   "source": [
    "# Which charge microstate is the most dominant?\n",
    "charge_microstates = mc.convert_to_charge_ms()"
   ]
  },
  {
   "cell_type": "code",
   "execution_count": 19,
   "metadata": {},
   "outputs": [
    {
     "name": "stdout",
     "output_type": "stream",
     "text": [
      "[1, 1, 0, 1, -1, 0, 0, 1, 1, 1, 0, -1, 0, 0, 1, 0, 0, 0, 1, -1, 0, 0, 0, 0, 0, 0, 0, 1, 0, 0, -1, 0, 0, -1, 0, 0, 0, 0, 0, 0, 0, 1, 0, 0, -1, 1, 0, 0, 1, 0, 0, 0, 0, 0, 0, 0, 0, -1, 0, 0, 0, 0, 1, 1, 0, 0, -1, 0, 0, 0, 0, 0, 0, 1, 0, 1, 1, 0, -1, 0, 0, 0, 0, 1, 1, -1] 157008 -203.74656655210362\n",
      "[1, 1, 0, 1, -1, 0, 0, 1, 1, 1, 0, -1, 0, 0, 1, 0, 0, 0, 1, 0, 0, 0, 0, 0, 0, 0, 0, 1, 0, 0, -1, 0, 0, -1, 0, 0, 0, 0, 0, 0, 0, 1, 0, 0, 0, 1, 0, 0, 1, 0, 0, 0, 0, 0, 0, 0, 0, -1, 0, 0, 0, 0, 1, 1, 0, 0, 0, 0, 0, 0, 0, 0, 0, 1, 0, 1, 1, 0, -1, 0, 0, 0, 0, 1, 1, -1] 189401 -202.4038766044846\n",
      "[1, 1, 0, 1, -1, 0, 0, 1, 1, 1, 0, -1, 0, 0, 1, 0, 0, 0, 1, 0, 0, 0, 0, 0, 0, 0, 0, 1, 0, 0, -1, 0, 0, -1, 0, 0, 0, 0, 0, 0, 0, 1, 0, 0, -1, 1, 0, 0, 1, 0, 0, 0, 0, 0, 0, 0, 0, -1, 0, 0, 0, 0, 1, 1, 0, 0, 0, 0, 0, 0, 0, 0, 0, 1, 0, 1, 1, 0, 0, 0, 0, 0, 0, 1, 1, -1] 194164 -201.8021504286579\n",
      "[1, 1, 0, 1, -1, 0, 0, 1, 1, 1, 0, -1, 0, 0, 1, 0, 0, 0, 1, 0, 0, 0, 0, 0, 0, 0, 0, 1, 0, 0, -1, 0, 0, -1, 0, 0, 0, 0, 0, 0, 0, 1, 0, 0, -1, 1, 0, 0, 1, 0, 0, 0, 0, 0, 0, 0, 0, -1, 0, 0, 0, 0, 1, 1, 0, 0, 0, 0, 0, 0, 0, 0, 0, 1, 0, 1, 1, 0, -1, 0, 0, 0, 0, 1, 1, 0] 202729 -201.73859726630036\n",
      "[1, 1, 0, 1, -1, 0, 0, 1, 1, 1, 0, -1, 0, 0, 1, 0, 0, 0, 1, 0, 0, 0, 0, 0, 0, 0, 0, 1, 0, 0, -1, 0, 0, 0, 0, 0, 0, 0, 0, 0, 0, 1, 0, 0, -1, 1, 0, 0, 1, 0, 0, 0, 0, 0, 0, 0, 0, -1, 0, 0, 0, 0, 1, 1, 0, 0, 0, 0, 0, 0, 0, 0, 0, 1, 0, 1, 1, 0, -1, 0, 0, 0, 0, 1, 1, -1] 203758 -200.81132966665652\n",
      "[1, 1, 0, 1, -1, 0, 0, 1, 1, 1, 0, -1, 0, 0, 1, 0, 0, 0, 1, -1, 0, 0, 0, 0, 0, 0, 0, 1, 0, 0, -1, 0, 0, 0, 0, 0, 0, 0, 0, 0, 0, 1, 0, 0, -1, 1, 0, 0, 1, 0, 0, 0, 0, 0, 0, 0, 0, -1, 0, 0, 0, 0, 1, 1, 0, 0, 0, 0, 0, 0, 0, 0, 0, 1, 0, 1, 1, 0, -1, 0, 0, 0, 0, 1, 1, -1] 217560 -201.01698450721338\n",
      "[1, 1, 0, 1, -1, 0, 0, 1, 1, 0, 0, -1, 0, 0, 1, 0, 0, 0, 1, 0, 0, 0, 0, 0, 0, 0, 0, 1, 0, 0, -1, 0, 0, -1, 0, 0, 0, 0, 0, 0, 0, 1, 0, 0, -1, 1, 0, 0, 1, 0, 0, 0, 0, 0, 0, 0, 0, -1, 0, 0, 0, 0, 1, 1, 0, 0, 0, 0, 0, 0, 0, 0, 0, 1, 0, 1, 1, 0, -1, 0, 0, 0, 0, 1, 1, -1] 246687 -201.7729316944678\n",
      "[1, 1, 0, 1, -1, 0, 0, 1, 1, 1, 0, -1, 0, 0, 1, 0, 0, 0, 1, -1, 0, 0, 0, 0, 0, 0, 0, 1, 0, 0, -1, 0, 0, -1, 0, 0, 0, 0, 0, 0, 0, 1, 0, 0, -1, 1, 0, 0, 1, 0, 0, 0, 0, 0, 0, 0, 0, -1, 0, 0, 0, 0, 1, 1, 0, 0, 0, 0, 0, 0, 0, 0, 0, 1, 0, 1, 1, 0, -1, 0, 0, 0, 0, 1, 1, -1] 271148 -202.64151191673156\n",
      "[1, 1, 0, 1, -1, 0, 0, 1, 1, 1, 0, -1, 0, 0, 1, 0, 0, 0, 1, 0, 0, 0, 0, 0, 0, 0, 0, 1, 0, 0, -1, 0, 0, -1, 0, 0, 0, 0, 0, 0, 0, 1, 0, 0, -1, 1, 0, 0, 1, 0, 0, 0, 0, 0, 0, 0, 0, -1, 0, 0, 0, 0, 1, 1, 0, 0, -1, 0, 0, 0, 0, 0, 0, 1, 0, 1, 1, 0, -1, 0, 0, 0, 0, 1, 1, -1] 1044415 -204.67402789877326\n",
      "[1, 1, 0, 1, -1, 0, 0, 1, 1, 1, 0, -1, 0, 0, 1, 0, 0, 0, 1, 0, 0, 0, 0, 0, 0, 0, 0, 1, 0, 0, -1, 0, 0, -1, 0, 0, 0, 0, 0, 0, 0, 1, 0, 0, -1, 1, 0, 0, 1, 0, 0, 0, 0, 0, 0, 0, 0, -1, 0, 0, 0, 0, 1, 1, 0, 0, 0, 0, 0, 0, 0, 0, 0, 1, 0, 1, 1, 0, -1, 0, 0, 0, 0, 1, 1, -1] 1610539 -203.58997487083195\n",
      "588 charge microstates\n",
      "6600000 total microstates\n"
     ]
    }
   ],
   "source": [
    "charge_microstates.sort(key=lambda x: x.count)\n",
    "total_crgms = 0\n",
    "\n",
    "for crg_ms in charge_microstates:\n",
    "    total_crgms += crg_ms.count\n",
    "\n",
    "for crg_ms in charge_microstates[-10:]:\n",
    "    print(crg_ms.state(), crg_ms.count, crg_ms.average_E)\n",
    "print(\"%d charge microstates\" % len(charge_microstates))\n",
    "print(\"%d total microstates\" % total_crgms)"
   ]
  },
  {
   "cell_type": "markdown",
   "metadata": {},
   "source": [
    "#### How do top charge microstates dominate the ms population"
   ]
  },
  {
   "cell_type": "code",
   "execution_count": 20,
   "metadata": {},
   "outputs": [
    {
     "name": "stdout",
     "output_type": "stream",
     "text": [
      "  Counts        %  Accum %   Energy\n",
      " 1610539    0.244    0.244  -203.59\n",
      " 1044415    0.158    0.402  -204.67\n",
      "  271148    0.041    0.443  -202.64\n",
      "  246687    0.037    0.481  -201.77\n",
      "  217560    0.033    0.514  -201.02\n",
      "  203758    0.031    0.545  -200.81\n",
      "  202729    0.031    0.575  -201.74\n",
      "  194164    0.029    0.605  -201.80\n",
      "  189401    0.029    0.633  -202.40\n",
      "  157008    0.024    0.657  -203.75\n",
      "  137921    0.021    0.678  -203.61\n",
      "  136342    0.021    0.699  -202.78\n",
      "  130590    0.020    0.719  -201.76\n",
      "  129731    0.020    0.738  -202.65\n",
      "  122579    0.019    0.757  -202.58\n",
      "  120400    0.018    0.775  -202.08\n",
      "   66119    0.010    0.785  -201.65\n",
      "   48687    0.007    0.792  -202.57\n",
      "   42831    0.006    0.799  -200.86\n",
      "   38825    0.006    0.805  -201.51\n",
      "   36696    0.006    0.810  -201.18\n",
      "   35606    0.005    0.816  -200.58\n",
      "   33908    0.005    0.821  -201.03\n",
      "   33124    0.005    0.826  -200.56\n",
      "   31179    0.005    0.831  -200.07\n",
      "   30246    0.005    0.835  -202.04\n",
      "   29589    0.004    0.840  -199.22\n",
      "   28886    0.004    0.844  -199.61\n",
      "   26747    0.004    0.848  -199.21\n",
      "   26458    0.004    0.852  -202.57\n",
      "   24865    0.004    0.856  -199.34\n",
      "   23913    0.004    0.859  -200.45\n",
      "   22563    0.003    0.863  -199.25\n",
      "   22542    0.003    0.866  -199.67\n",
      "   22408    0.003    0.870  -200.43\n",
      "   20965    0.003    0.873  -200.10\n",
      "   20920    0.003    0.876  -198.88\n",
      "   20912    0.003    0.879  -199.64\n",
      "   20324    0.003    0.882  -199.88\n",
      "   18758    0.003    0.885  -201.40\n",
      "   18542    0.003    0.888  -200.78\n",
      "   17824    0.003    0.891  -201.28\n",
      "   17656    0.003    0.893  -201.00\n",
      "   17017    0.003    0.896  -201.03\n",
      "   16759    0.003    0.898  -199.43\n",
      "   16730    0.003    0.901  -200.55\n",
      "   16678    0.003    0.904  -199.52\n",
      "   16644    0.003    0.906  -201.45\n",
      "   16469    0.002    0.909  -201.50\n",
      "   15924    0.002    0.911  -200.50\n"
     ]
    }
   ],
   "source": [
    "top_picks = 50\n",
    "top_crgms = charge_microstates[-top_picks:]\n",
    "top_crgms.sort(key=lambda x: x.count, reverse=True)\n",
    "top_counts = [x.count for x in top_crgms]\n",
    "top_averageE = [x.average_E for x in top_crgms]\n",
    "top_percentage = [x.count/total_crgms for x in top_crgms]\n",
    "\n",
    "print(\"%8s %8s %8s %8s\" % (\"Counts\", \"%\", \"Accum %\", \"Energy\"))\n",
    "accum_pct = 0.0\n",
    "top_accum = []\n",
    "for i in range(top_picks):\n",
    "    accum_pct += top_percentage[i]\n",
    "    top_accum.append(accum_pct)\n",
    "    print(\"%8d %8.3f %8.3f %8.2f\" % (top_counts[i], top_percentage[i], accum_pct, top_averageE[i]))"
   ]
  },
  {
   "cell_type": "code",
   "execution_count": 21,
   "metadata": {},
   "outputs": [
    {
     "data": {
      "image/png": "[encoded data removed]",
      "text/plain": [
       "<Figure size 720x432 with 1 Axes>"
      ]
     },
     "metadata": {
      "needs_background": "light"
     },
     "output_type": "display_data"
    }
   ],
   "source": [
    "fig = plt.figure(figsize=(10,6))\n",
    "ax1 = fig.add_subplot(111)\n",
    "ax1.set_ylim([0, 1])\n",
    "ax1.scatter(range(top_picks), top_percentage, s=10, c='b', marker = \".\")\n",
    "ax1.scatter(range(top_picks), top_accum, s=10, c='r', marker=\"x\")\n",
    "plt.show()"
   ]
  },
  {
   "cell_type": "code",
   "execution_count": 47,
   "metadata": {},
   "outputs": [
    {
     "name": "stdout",
     "output_type": "stream",
     "text": [
      "HISA0015_  1  1  1  0  1  1  1  1  1  1\n",
      "GLUA0035_  0  0 -1  0 -1  0  0  0  0 -1\n",
      "ASPA0052_ -1 -1 -1 -1  0  0 -1 -1 -1 -1\n",
      "ASPA0066_ -1 -1 -1 -1 -1 -1 -1 -1  0 -1\n",
      "ASPA0101_  0 -1  0  0  0  0  0  0  0 -1\n",
      "ASPA0119_ -1 -1 -1 -1 -1 -1 -1  0 -1 -1\n",
      "CTRA0129_ -1 -1 -1 -1 -1 -1  0 -1 -1 -1\n"
     ]
    }
   ],
   "source": [
    "# Top 10 charge microstates charge comparison\n",
    "# print(len(mc.free_residue_names))\n",
    "# print(len(top_crgms[0].state()))\n",
    "for i_res in range(len(mc.free_residue_names)):\n",
    "    resname = mc.free_residue_names[i_res]\n",
    "    charges = []\n",
    "    for i in range(10):\n",
    "        charges.append(top_crgms[i].state()[i_res])\n",
    "    charges_str = \" \".join([\"%2d\" % x for x in charges])\n",
    "    if len(set(charges))>1:\n",
    "        print(resname, charges_str)\n",
    "    "
   ]
  },
  {
   "cell_type": "markdown",
   "metadata": {},
   "source": [
    "## Part 2: Memory saving"
   ]
  },
  {
   "cell_type": "markdown",
   "metadata": {},
   "source": [
    "### Memory usage comparing with the old library\n",
    "\n",
    "4lzm quick run\n",
    "Memory usage with old library: 3.8 GB\n",
    "Memory usage with new library: 1.1 GB"
   ]
  },
  {
   "cell_type": "code",
   "execution_count": 36,
   "metadata": {},
   "outputs": [
    {
     "name": "stdout",
     "output_type": "stream",
     "text": [
      "Number of unique microstates = 2126677\n",
      "Number of total microstates = 6600000\n",
      "Percentage of unique microstates = 32.222%\n"
     ]
    }
   ],
   "source": [
    "print(\"Number of unique microstates = %d\" % len(mc.microstates))\n",
    "print(\"Number of total microstates = %d\" % mc.counts)\n",
    "print(\"Percentage of unique microstates = %.3f%%\" % (len(mc.microstates)/mc.counts*100))"
   ]
  },
  {
   "cell_type": "markdown",
   "metadata": {},
   "source": [
    "### Which part saves memory"
   ]
  },
  {
   "cell_type": "code",
   "execution_count": 27,
   "metadata": {},
   "outputs": [
    {
     "name": "stdout",
     "output_type": "stream",
     "text": [
      "Old microstate ID is a list\n",
      "[1, 8, 12, 40, 81, 85, 92, 103, 125, 156, 158, 169, 170, 174, 189, 197, 203, 208, 233, 261, 267, 270, 275, 281, 282, 287, 296, 386, 402, 413, 460, 468, 481, 519, 538, 545, 549, 552, 562, 563, 582, 680, 692, 697, 728, 821, 839, 845, 889, 894, 900, 902, 908, 912, 916, 928, 931, 952, 956, 963, 979, 989, 1022, 1042, 1050, 1055, 1070, 1073, 1080, 1087, 1094, 1099, 1101, 1131, 1136, 1149, 1162, 1170, 1187, 1188, 1192, 1203, 1205, 1238, 1321, 1333]\n",
      "Size of the ID 744 bytes\n",
      "\n",
      "New microstate ID is compressed string\n",
      "b'x\\x9c\\x1d\\x90Q\\x16D!\\x08B\\xb7\\xc2\\x12D\\xb3\\xa7\\xfb\\xdf\\xd8\\xdc\\xe6\\x03\\xf2\\x98\\x11h\\x8d\\x9c:\\xa1\\xb1\\xa6\\xb5)G\\xd1j\\xb9/\\xe0\\xfa\\xae\\xfc\\x058\\xf2P\\xef\\xa7d&c\\x94\\xc5y\\r\\xe81\\x93_+Q\\xcaI@o\\xafj.\\xfa\\xfc\\xe1\\xd2\\xb9\\x01F\\x87\\x99\\xf6\\xaak\\xd4\\xa7\\x01u\\xa7\\xfa>\\x94\\x9a\\xf7wB\\x17?\\x97\\xff\\xbe\\x1cM\\xe2\\xb0V\\xc3\\xfc\\xe0c\\xf6h#@\\x82\\xd1\\x92c}\\x89@]\\xd6\\xa2\\xb7dX\\xf4\\xf6[\\xed\\xf3\\x1e\\xf9\\x02\\x9eG\\x1d\\x8f\\xc8\\x19/\\\\|\\xa4\\x8ey\\x15\\xbe\\x1d\\x88C\\xbcp\\x18\\xaa?\\xb1\\x10\\x9f\\xd7\\xc3\\xa6\\xff;\\xf1\\x1b\\xf6\\xb0%\\xbf\\xd5\\xe5\\x7fw\\x81h\\x92\\xcc\\x85eW\\xd5\\x0f2\\xd3B\\x16'\n",
      "Size of the ID 218 bytes\n"
     ]
    }
   ],
   "source": [
    "# Microstate ID:\n",
    "old_id = mc.microstates[0].state()\n",
    "print(\"Old microstate ID is a list\")\n",
    "print(old_id)\n",
    "print(\"Size of the ID %d bytes\" % old_id.__sizeof__())\n",
    "\n",
    "print()\n",
    "# new microstate id:\n",
    "new_id = mc.microstates[0].stateid\n",
    "print(\"New microstate ID is compressed string\")\n",
    "print(new_id)\n",
    "print(\"Size of the ID %d bytes\" % new_id.__sizeof__())\n"
   ]
  },
  {
   "cell_type": "markdown",
   "metadata": {},
   "source": [
    "### Reduction of redundancy\n",
    "Old microstates are in a list that some elements are identical, as they match the line in mc_out files.\n",
    "New microstates are a list that every element is unique.\n",
    "\n",
    "Old list elements: 2146850\n",
    "\n",
    "New list elements: 2126677\n"
   ]
  },
  {
   "cell_type": "markdown",
   "metadata": {},
   "source": [
    "### Use partial MC data"
   ]
  },
  {
   "cell_type": "code",
   "execution_count": 28,
   "metadata": {},
   "outputs": [
    {
     "name": "stdout",
     "output_type": "stream",
     "text": [
      "Reading MC:2\n"
     ]
    }
   ],
   "source": [
    "msfile = \"ms_out/pH5eH0ms.txt\"\n",
    "mc_partial = MC()\n",
    "mc_partial.readms(msfile, MC=[2])"
   ]
  },
  {
   "cell_type": "code",
   "execution_count": 37,
   "metadata": {},
   "outputs": [
    {
     "name": "stdout",
     "output_type": "stream",
     "text": [
      "Number of unique microstates = 355073\n",
      "Number of total microstates = 1100000\n",
      "Percentage of unique microstates = 32.279%\n"
     ]
    }
   ],
   "source": [
    "print(\"Number of unique microstates = %d\" % len(mc_partial.microstates))\n",
    "print(\"Number of total microstates = %d\" % mc_partial.counts)\n",
    "print(\"Percentage of unique microstates = %.3f%%\" % (len(mc_partial.microstates)/mc_partial.counts*100))"
   ]
  }
 ],
 "metadata": {
  "kernelspec": {
   "display_name": "Python 3",
   "language": "python",
   "name": "python3"
  },
  "language_info": {
   "codemirror_mode": {
    "name": "ipython",
    "version": 3
   },
   "file_extension": ".py",
   "mimetype": "text/x-python",
   "name": "python",
   "nbconvert_exporter": "python",
   "pygments_lexer": "ipython3",
   "version": "3.7.7"
  }
 },
 "nbformat": 4,
 "nbformat_minor": 4
}
